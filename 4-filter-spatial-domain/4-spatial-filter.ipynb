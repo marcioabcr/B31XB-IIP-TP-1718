{
 "cells": [
  {
   "cell_type": "markdown",
   "metadata": {},
   "source": [
    "# Introduction to Image Processing\n",
    "\n",
    "Mojdeh Rastgoo - Desire Sidibe\n",
    "\n",
    "# 4. Spatial Filtering and de-noising"
   ]
  },
  {
   "cell_type": "markdown",
   "metadata": {},
   "source": [
    "Importing the necessary libraries an modules."
   ]
  },
  {
   "cell_type": "code",
   "execution_count": 1,
   "metadata": {
    "collapsed": true
   },
   "outputs": [],
   "source": [
    "%matplotlib inline\n",
    "#%pprint off\n",
    "\n",
    "# Matplotlib library\n",
    "import matplotlib.pyplot as plt\n",
    "from matplotlib import cm\n",
    "\n",
    "# Numpy library\n",
    "import numpy as np\n",
    "\n",
    "from skimage import io \n",
    "from skimage import img_as_ubyte\n",
    "from skimage import img_as_float\n",
    "from skimage import color \n",
    "\n",
    "# import the function to add some noise\n",
    "from skimage.util import random_noise\n"
   ]
  },
  {
   "cell_type": "markdown",
   "metadata": {},
   "source": [
    "## 4.1 Smoothing"
   ]
  },
  {
   "cell_type": "markdown",
   "metadata": {},
   "source": [
    "### 4.1.1 Mean filter \n",
    "**Q.1** Smooth the lena image, by mean filter, using different disk circles with radius of $ r = 3, 5, 7$\n",
    "show your results, remember to add title to your images. \n",
    "\n",
    "Use [`skimage.filters.rank.mean`](http://scikit-image.org/docs/dev/api/skimage.filters.rank.html#skimage.filters.rank.mean) and [`skimage.morphology.disk`](http://scikit-image.org/docs/dev/api/skimage.morphology.html#skimage.morphology.disk) function "
   ]
  },
  {
   "cell_type": "code",
   "execution_count": null,
   "metadata": {},
   "outputs": [],
   "source": []
  },
  {
   "cell_type": "markdown",
   "metadata": {},
   "source": [
    "### 4.1.2 Filtering using convolution \n",
    "**Q.2** Once again apply the mean fiter, howver instead of using `filters.rank` make your mean mask having the same size as the last filter you applied in the previous question (disk of 7) and use convolution to apply the filter. \n",
    "\n",
    "The function [`ndimage.filters.convolve`](http://docs.scipy.org/doc/scipy/reference/generated/scipy.ndimage.filters.convolve.html#scipy.ndimage.filters.convolve) from `scipy` allows to compute the convolution between a mask (filter) and an image."
   ]
  },
  {
   "cell_type": "code",
   "execution_count": null,
   "metadata": {},
   "outputs": [],
   "source": []
  },
  {
   "cell_type": "markdown",
   "metadata": {},
   "source": [
    "Any filtering will work is a similar manner. Only the mask (filter) will change and will define the nature of the filtering."
   ]
  },
  {
   "cell_type": "markdown",
   "metadata": {},
   "source": [
    "## 4.2 Common spatial filtering"
   ]
  },
  {
   "cell_type": "markdown",
   "metadata": {},
   "source": [
    "In this section, you will learn about spatial filters which are commonly used in image processing. These filters are already implemented in `skimage` and can be directly used without applying the previous processing.\n",
    "\n",
    "check the modules `filters` and `filters.rank` for more information."
   ]
  },
  {
   "cell_type": "code",
   "execution_count": 6,
   "metadata": {
    "collapsed": true
   },
   "outputs": [],
   "source": [
    "from skimage import filters"
   ]
  },
  {
   "cell_type": "markdown",
   "metadata": {},
   "source": [
    "### 4.2.1 First-order edge detector"
   ]
  },
  {
   "cell_type": "markdown",
   "metadata": {},
   "source": [
    "You already saw during the lecture the following edge detectors: (i) Roberts, (ii) Prewitt, and (iii) Sobel.\n",
    "All these operators are an approximation of the first derivative. They are highly sensitive to noise even if Prewitt and Sobel have a smoothing process embedded.\n",
    "\n",
    "Scharr opearator is an improved version of Sobel such that the operator provides a rotational symmetry.\n",
    "\n",
    "The following functions are defined in `skimage`: `filters.roberts`, `filters.prewitt`, `filters.sobel`, and `filters.scharr`. \n",
    "\n",
    "**Q.3** Apply `roberts`, `prewitt`, `sobel` and `scharr` filters on Leaves image (`leaves.jpg`)."
   ]
  },
  {
   "cell_type": "code",
   "execution_count": null,
   "metadata": {},
   "outputs": [],
   "source": []
  },
  {
   "cell_type": "markdown",
   "metadata": {},
   "source": [
    "**Q.4** Implement sobel filters using convolution operation.\n",
    "Reminder, sobels operators in horizontal and vertical are as follows.\n",
    "\n",
    "$$S_x = \\begin{bmatrix}1& 0 & -1\\\\ 2 & 0 & -2 \\\\ 1 & 0 & -1\\end{bmatrix}, \\qquad S_y = \\begin{bmatrix}1& 2 & 1\\\\ 0 & 0 & 0 \\\\ -1 & -2 & -1\\end{bmatrix}$$\n",
    "\n",
    "and then show the magnitude and angle image obtained from the filter "
   ]
  },
  {
   "cell_type": "code",
   "execution_count": null,
   "metadata": {},
   "outputs": [],
   "source": []
  },
  {
   "cell_type": "markdown",
   "metadata": {},
   "source": [
    "\n",
    "### 4.2.2 Second-order edge detector (Laplace filter)"
   ]
  },
  {
   "cell_type": "markdown",
   "metadata": {},
   "source": [
    "The second order edge detector is using the Laplace kernel as seen in lectures.\n",
    "\n",
    "The `skimage` toolbox does provides an implementation of this filter in `filters.laplace` modules. \n",
    "\n",
    "**Q.4** Apply this filter on the Leaves image."
   ]
  },
  {
   "cell_type": "code",
   "execution_count": null,
   "metadata": {},
   "outputs": [],
   "source": []
  },
  {
   "cell_type": "markdown",
   "metadata": {},
   "source": [
    "### 4.2.3 Angular edge detector (Gabor filter)"
   ]
  },
  {
   "cell_type": "markdown",
   "metadata": {},
   "source": [
    "In the previous section, edges are detected using the response of two kernels (i.e., horizontal and vertical kernels) which are later combined (i.e., magnitude and angle). \n",
    "\n",
    "Gabor filters is a family of filters which are sensitive to a specific angle and a specific frequency.\n",
    "Gabor filter is defined by a sinusoidal wave multiplied by a guassian, the complex form of this filter is presented bellow :\n",
    "\n",
    "$$g(x,y;\\lambda,\\theta,\\psi,\\sigma,\\gamma) = \\exp\\left(-\\frac{x'^2+\\gamma^2y'^2}{2\\sigma^2}\\right)\\exp\\left(i\\left(2\\pi\\frac{x'}{\\lambda}+\\psi\\right)\\right)$$\n",
    "\n",
    "where \n",
    "$$\n",
    "{\\displaystyle x'=x\\cos \\theta +y\\sin \\theta \\,}$$\n",
    "and\n",
    "$$\n",
    "{\\displaystyle y'=-x\\sin \\theta +y\\cos \\theta \\,} $$\n",
    "`Skimage` provides an implementation of gabor filtering in [`filters.gabor`](http://scikit-image.org/docs/dev/api/skimage.filters.html#skimage.filters.gabor)\n",
    "\n",
    "\n",
    "**Q.5 **Apply this filter to find the edges at 60 degrees in Lena image. Try with different frequencies in the range [0.05, 0.5]."
   ]
  },
  {
   "cell_type": "code",
   "execution_count": null,
   "metadata": {},
   "outputs": [],
   "source": []
  },
  {
   "cell_type": "markdown",
   "metadata": {},
   "source": [
    "## 4.3 Denoising filters"
   ]
  },
  {
   "cell_type": "markdown",
   "metadata": {
    "collapsed": true
   },
   "source": [
    "Different filters can be applied in the spatial domain to remove the noise.\n",
    "These filters can be found in the module `filters.rank`."
   ]
  },
  {
   "cell_type": "markdown",
   "metadata": {},
   "source": [
    "Before to start denoising the image, we need to generate some corrupted image using the noise generator from `skimage`.\n",
    "For this purpose, we will use the function [`util.random_noise`](http://scikit-image.org/docs/dev/api/skimage.util.html#skimage.util.random_noise).\n",
    "\n",
    "**Q.6 ** Generate several corrupted Lena images with `gaussian` noise, `salt & peppers` noise, and `speckle` noise. Keep the default parameters."
   ]
  },
  {
   "cell_type": "code",
   "execution_count": 36,
   "metadata": {
    "collapsed": true
   },
   "outputs": [],
   "source": [
    "from skimage import util"
   ]
  },
  {
   "cell_type": "code",
   "execution_count": null,
   "metadata": {},
   "outputs": [],
   "source": []
  },
  {
   "cell_type": "markdown",
   "metadata": {},
   "source": [
    "**Q.7** Apply `median`, `mean` and `alpha-trimmed` mean filter on different corrupted Lena images with the mask corresponding to disk 1 and 3.\n",
    "\n",
    " `alpha-trimmed` ([`mean_percentile`](http://scikit-image.org/docs/dev/api/skimage.filters.rank.html#skimage.filters.rank.mean_percentile)) mean filter works similar to normal mean filter. However, it considers only the grey values inside a specific range."
   ]
  },
  {
   "cell_type": "markdown",
   "metadata": {},
   "source": [
    "** Q.7.1 mean filter: **"
   ]
  },
  {
   "cell_type": "code",
   "execution_count": null,
   "metadata": {},
   "outputs": [],
   "source": []
  },
  {
   "cell_type": "markdown",
   "metadata": {},
   "source": [
    "** Q.7.2 alpha-trimmed mean filter: **\n",
    "\n",
    "Apply this function on the different corrupted Lena by considering the gray value in the range [0.05, 0.95]."
   ]
  },
  {
   "cell_type": "code",
   "execution_count": null,
   "metadata": {},
   "outputs": [],
   "source": []
  },
  {
   "cell_type": "markdown",
   "metadata": {},
   "source": [
    "** Q.7.3 median filter: **"
   ]
  },
  {
   "cell_type": "code",
   "execution_count": null,
   "metadata": {},
   "outputs": [],
   "source": []
  },
  {
   "cell_type": "markdown",
   "metadata": {},
   "source": [
    "## 4.4 Sharpening"
   ]
  },
  {
   "cell_type": "markdown",
   "metadata": {},
   "source": [
    "**Q.8** Use the `railway` image and sharpen the image using laplacian fitering."
   ]
  },
  {
   "cell_type": "code",
   "execution_count": null,
   "metadata": {},
   "outputs": [],
   "source": []
  },
  {
   "cell_type": "markdown",
   "metadata": {},
   "source": [
    "## 4.5 Hough transform"
   ]
  },
  {
   "cell_type": "markdown",
   "metadata": {},
   "source": [
    "** Q.9 ** Define your Hough_trans function which finds the lines within an image\n",
    "\n",
    "you can use either `hough_line` and `hough_line_peaks` or `probabilistic_hough_line` from [`skimage.transform`](http://scikit-image.org/docs/dev/api/skimage.transform.html). \n",
    "\n",
    "search a bit to know the difference between `probablistic_hough_line` and `hough_line`\n",
    "\n",
    "Or `HoughLines` and `HoughLinesP` from [`cv2`](http://docs.opencv.org/3.0-beta/doc/py_tutorials/py_tutorials.html)\n",
    "\n",
    "\n",
    "Test your function on `railway` and `building` images. \n",
    "\n",
    "**Note : use `skimage.feature.canny` or `cv2.canny` edge detector to find the primary edges**"
   ]
  },
  {
   "cell_type": "code",
   "execution_count": null,
   "metadata": {},
   "outputs": [],
   "source": []
  },
  {
   "cell_type": "code",
   "execution_count": null,
   "metadata": {
    "collapsed": true
   },
   "outputs": [],
   "source": []
  },
  {
   "cell_type": "code",
   "execution_count": null,
   "metadata": {
    "collapsed": true
   },
   "outputs": [],
   "source": []
  },
  {
   "cell_type": "code",
   "execution_count": null,
   "metadata": {},
   "outputs": [],
   "source": []
  },
  {
   "cell_type": "code",
   "execution_count": null,
   "metadata": {},
   "outputs": [],
   "source": []
  }
 ],
 "metadata": {
  "kernelspec": {
   "display_name": "Python 3",
   "language": "python",
   "name": "python3"
  },
  "language_info": {
   "codemirror_mode": {
    "name": "ipython",
    "version": 3
   },
   "file_extension": ".py",
   "mimetype": "text/x-python",
   "name": "python",
   "nbconvert_exporter": "python",
   "pygments_lexer": "ipython3",
   "version": "3.6.2"
  }
 },
 "nbformat": 4,
 "nbformat_minor": 1
}
